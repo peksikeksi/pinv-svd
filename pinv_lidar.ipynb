{
 "cells": [
  {
   "cell_type": "code",
   "execution_count": 2,
   "id": "4846f492",
   "metadata": {},
   "outputs": [
    {
     "name": "stdout",
     "output_type": "stream",
     "text": [
      "Jupyter environment detected. Enabling Open3D WebVisualizer.\n",
      "[Open3D INFO] WebRTC GUI backend enabled.\n",
      "[Open3D INFO] WebRTCWindowSystem: HTTP handshake server disabled.\n"
     ]
    }
   ],
   "source": [
    "import open3d as o3d\n",
    "import numpy as np\n",
    "import pandas as pd\n",
    "import os\n",
    "import re\n",
    "from glob import glob\n",
    "import time\n",
    "import random\n",
    "import seaborn as sns\n",
    "import xml.etree.ElementTree as ET\n",
    "from mpl_toolkits.mplot3d import Axes3D\n",
    "from pyntcloud import PyntCloud\n",
    "import plotly.graph_objs as go\n",
    "from matplotlib.pyplot import cm\n",
    "import matplotlib.pyplot as plt\n",
    "from plotly.offline import iplot, init_notebook_mode"
   ]
  },
  {
   "cell_type": "code",
   "execution_count": 3,
   "id": "35a87718",
   "metadata": {},
   "outputs": [],
   "source": [
    "df = pd.read_csv('data\\LIDAR data\\lidar_data.csv')"
   ]
  },
  {
   "cell_type": "code",
   "execution_count": 4,
   "id": "04374770",
   "metadata": {},
   "outputs": [
    {
     "data": {
      "text/html": [
       "<div>\n",
       "<style scoped>\n",
       "    .dataframe tbody tr th:only-of-type {\n",
       "        vertical-align: middle;\n",
       "    }\n",
       "\n",
       "    .dataframe tbody tr th {\n",
       "        vertical-align: top;\n",
       "    }\n",
       "\n",
       "    .dataframe thead th {\n",
       "        text-align: right;\n",
       "    }\n",
       "</style>\n",
       "<table border=\"1\" class=\"dataframe\">\n",
       "  <thead>\n",
       "    <tr style=\"text-align: right;\">\n",
       "      <th></th>\n",
       "      <th>x</th>\n",
       "      <th>y</th>\n",
       "      <th>z</th>\n",
       "      <th>red</th>\n",
       "      <th>green</th>\n",
       "      <th>blue</th>\n",
       "      <th>scalar_Intensity</th>\n",
       "      <th>scalar_GPSTime</th>\n",
       "      <th>scalar_ScanAngleRank</th>\n",
       "      <th>scalar_Label</th>\n",
       "      <th>color</th>\n",
       "    </tr>\n",
       "  </thead>\n",
       "  <tbody>\n",
       "    <tr>\n",
       "      <th>0</th>\n",
       "      <td>144.500000</td>\n",
       "      <td>949.984009</td>\n",
       "      <td>144.350006</td>\n",
       "      <td>99</td>\n",
       "      <td>28</td>\n",
       "      <td>36</td>\n",
       "      <td>48.0</td>\n",
       "      <td>324750.72</td>\n",
       "      <td>12.0</td>\n",
       "      <td>4.0</td>\n",
       "      <td>rgb(99.0,28.0,36.0)</td>\n",
       "    </tr>\n",
       "    <tr>\n",
       "      <th>1</th>\n",
       "      <td>144.944000</td>\n",
       "      <td>946.268982</td>\n",
       "      <td>146.248001</td>\n",
       "      <td>144</td>\n",
       "      <td>161</td>\n",
       "      <td>155</td>\n",
       "      <td>2.0</td>\n",
       "      <td>324759.78</td>\n",
       "      <td>15.0</td>\n",
       "      <td>4.0</td>\n",
       "      <td>rgb(144.0,161.0,155.0)</td>\n",
       "    </tr>\n",
       "    <tr>\n",
       "      <th>2</th>\n",
       "      <td>129.983994</td>\n",
       "      <td>955.427002</td>\n",
       "      <td>140.850998</td>\n",
       "      <td>99</td>\n",
       "      <td>94</td>\n",
       "      <td>100</td>\n",
       "      <td>8.0</td>\n",
       "      <td>324749.56</td>\n",
       "      <td>0.0</td>\n",
       "      <td>1.0</td>\n",
       "      <td>rgb(99.0,94.0,100.0)</td>\n",
       "    </tr>\n",
       "    <tr>\n",
       "      <th>3</th>\n",
       "      <td>148.457001</td>\n",
       "      <td>939.979004</td>\n",
       "      <td>149.169998</td>\n",
       "      <td>83</td>\n",
       "      <td>74</td>\n",
       "      <td>67</td>\n",
       "      <td>10.0</td>\n",
       "      <td>324776.90</td>\n",
       "      <td>10.0</td>\n",
       "      <td>4.0</td>\n",
       "      <td>rgb(83.0,74.0,67.0)</td>\n",
       "    </tr>\n",
       "    <tr>\n",
       "      <th>4</th>\n",
       "      <td>125.126999</td>\n",
       "      <td>952.778992</td>\n",
       "      <td>140.792007</td>\n",
       "      <td>74</td>\n",
       "      <td>78</td>\n",
       "      <td>79</td>\n",
       "      <td>8.0</td>\n",
       "      <td>324762.22</td>\n",
       "      <td>5.0</td>\n",
       "      <td>1.0</td>\n",
       "      <td>rgb(74.0,78.0,79.0)</td>\n",
       "    </tr>\n",
       "  </tbody>\n",
       "</table>\n",
       "</div>"
      ],
      "text/plain": [
       "            x           y           z  red  green  blue  scalar_Intensity  \\\n",
       "0  144.500000  949.984009  144.350006   99     28    36              48.0   \n",
       "1  144.944000  946.268982  146.248001  144    161   155               2.0   \n",
       "2  129.983994  955.427002  140.850998   99     94   100               8.0   \n",
       "3  148.457001  939.979004  149.169998   83     74    67              10.0   \n",
       "4  125.126999  952.778992  140.792007   74     78    79               8.0   \n",
       "\n",
       "   scalar_GPSTime  scalar_ScanAngleRank  scalar_Label                   color  \n",
       "0       324750.72                  12.0           4.0     rgb(99.0,28.0,36.0)  \n",
       "1       324759.78                  15.0           4.0  rgb(144.0,161.0,155.0)  \n",
       "2       324749.56                   0.0           1.0    rgb(99.0,94.0,100.0)  \n",
       "3       324776.90                  10.0           4.0     rgb(83.0,74.0,67.0)  \n",
       "4       324762.22                   5.0           1.0     rgb(74.0,78.0,79.0)  "
      ]
     },
     "execution_count": 4,
     "metadata": {},
     "output_type": "execute_result"
    }
   ],
   "source": [
    "df.head()"
   ]
  },
  {
   "cell_type": "code",
   "execution_count": 5,
   "id": "9c5c427d",
   "metadata": {},
   "outputs": [
    {
     "name": "stdout",
     "output_type": "stream",
     "text": [
      "<class 'pandas.core.frame.DataFrame'>\n",
      "RangeIndex: 215672 entries, 0 to 215671\n",
      "Data columns (total 11 columns):\n",
      " #   Column                Non-Null Count   Dtype  \n",
      "---  ------                --------------   -----  \n",
      " 0   x                     215672 non-null  float64\n",
      " 1   y                     215672 non-null  float64\n",
      " 2   z                     215672 non-null  float64\n",
      " 3   red                   215672 non-null  int64  \n",
      " 4   green                 215672 non-null  int64  \n",
      " 5   blue                  215672 non-null  int64  \n",
      " 6   scalar_Intensity      215672 non-null  float64\n",
      " 7   scalar_GPSTime        215672 non-null  float64\n",
      " 8   scalar_ScanAngleRank  215672 non-null  float64\n",
      " 9   scalar_Label          215672 non-null  float64\n",
      " 10  color                 215672 non-null  object \n",
      "dtypes: float64(7), int64(3), object(1)\n",
      "memory usage: 18.1+ MB\n"
     ]
    }
   ],
   "source": [
    "df.info()"
   ]
  },
  {
   "cell_type": "code",
   "execution_count": null,
   "id": "6d0e5244",
   "metadata": {},
   "outputs": [],
   "source": [
    "rgb = df[['red', 'green', 'blue']].to_numpy() / 255\n",
    "\n",
    "fig = plt.figure(figsize=(9, 7))\n",
    "ax = fig.add_subplot(projection='3d')\n",
    "\n",
    "ax.scatter(\n",
    "    df['x'], df['y'], df['z'],\n",
    "    c=rgb, s=0.8, alpha=0.9, linewidths=0\n",
    ")\n",
    "\n",
    "\n",
    "ax.grid(True)\n",
    "plt.tight_layout()\n",
    "plt.savefig(\"results/3d_cloud.png\", dpi=200)\n",
    "plt.close(fig)\n",
    "plt.show()"
   ]
  },
  {
   "cell_type": "code",
   "execution_count": 7,
   "id": "4d520b77",
   "metadata": {},
   "outputs": [],
   "source": [
    "def parse_color_xml(xml_path):\n",
    "    tree = ET.parse(xml_path)\n",
    "    root = tree.getroot()\n",
    "    ns = {'cc': 'http://www.cloudcompare.org/'}\n",
    "    data = root.find('.//Data', ns)\n",
    "    \n",
    "    color_map = {}\n",
    "    for step in data.findall('step'):\n",
    "        r, g, b = (int(step.get(ch)) for ch in ('r', 'g', 'b'))\n",
    "        pos = float(step.get('pos'))\n",
    "        color_map[int(pos * 8)] = (r / 255, g / 255, b / 255)\n",
    "    return color_map\n",
    "\n",
    "\n",
    "label_categories = {\n",
    "    0: 'Unclassified', 1: 'Ground', 2: 'Road_markings', 3: 'Natural',\n",
    "    4: 'Building', 5: 'Utility_line', 6: 'Pole', 7: 'Car', 8: 'Fence'\n",
    "}\n",
    "\n",
    "\n",
    "def get_category_colors(color_map):\n",
    "    return {k: color_map[k] for k in label_categories if k in color_map}\n",
    "\n",
    "\n",
    "xml_path = 'data\\LIDAR data\\Colors.xml'\n",
    "color_map = parse_color_xml(xml_path)\n",
    "category_colors = get_category_colors(color_map)"
   ]
  },
  {
   "cell_type": "code",
   "execution_count": null,
   "id": "5e510636",
   "metadata": {},
   "outputs": [],
   "source": [
    "df['color'] = df.apply(lambda r: f'rgb({r.red},{r.green},{r.blue})', axis=1)\n",
    "\n",
    "fig = plt.figure(figsize=(9, 7))\n",
    "ax = fig.add_subplot(projection='3d')\n",
    "\n",
    "ax.scatter(\n",
    "    df['x'], df['y'], df['z'],\n",
    "    c=[color_map.get(lbl, (1, 1, 1)) for lbl in df['scalar_Label']],\n",
    "    s=1, alpha=0.9, linewidths=0\n",
    ")\n",
    "\n",
    "\n",
    "handles = [\n",
    "    plt.Line2D(\n",
    "        [0], [0],\n",
    "        marker='o', color='w',\n",
    "        markerfacecolor=category_colors[i],\n",
    "        markersize=8,\n",
    "        label=label_categories[i]\n",
    "    )\n",
    "    for i in sorted(category_colors)\n",
    "]\n",
    "ax.legend(handles=handles, title='Класе', loc='best')\n",
    "\n",
    "plt.tight_layout()\n",
    "plt.savefig(\"results/3d_cloud_labeled.png\", dpi=200)\n",
    "plt.close(fig)\n",
    "plt.show()\n"
   ]
  },
  {
   "cell_type": "code",
   "execution_count": null,
   "id": "d825e4c9",
   "metadata": {},
   "outputs": [],
   "source": [
    "ground_df = df[df['scalar_Label'] == 1]\n",
    "X = ground_df[['x', 'y', 'z']].to_numpy()\n",
    "\n",
    "A = np.c_[X[:,0], X[:,1], np.ones(X.shape[0])]\n",
    "b = X[:,2]\n",
    "a, b_coef, c = np.linalg.pinv(A) @ b\n",
    "\n",
    "x_range = np.linspace(ground_df['x'].min(), ground_df['x'].max(), 60)\n",
    "y_range = np.linspace(ground_df['y'].min(), ground_df['y'].max(), 60)\n",
    "x_grid, y_grid = np.meshgrid(x_range, y_range)\n",
    "z_grid = a * x_grid + b_coef * y_grid + c\n",
    "\n",
    "fig = plt.figure(figsize=(6, 6))\n",
    "ax = fig.add_subplot(projection='3d')\n",
    "\n",
    "ax.scatter(ground_df['x'], ground_df['y'], ground_df['z'], c='blue', s=0.5, alpha=0.4)\n",
    "ax.plot_surface(x_grid, y_grid, z_grid, color='red', alpha=0.6)\n",
    "\n",
    "plt.tight_layout()\n",
    "plt.savefig(\"results/ground_approx.png\", dpi=200)\n",
    "plt.close(fig)\n",
    "plt.show()"
   ]
  },
  {
   "cell_type": "code",
   "execution_count": null,
   "id": "45319a4a",
   "metadata": {},
   "outputs": [],
   "source": [
    "from scipy.stats import binned_statistic_2d\n",
    "\n",
    "ground_df = df[df['scalar_Label'] == 1]\n",
    "X = ground_df[['x','y','z']].to_numpy()\n",
    "\n",
    "A = np.c_[X[:,0], X[:,1], np.ones(X.shape[0])]\n",
    "b = X[:,2]\n",
    "a, b_coef, c = np.linalg.pinv(A) @ b\n",
    "\n",
    "x_range = np.linspace(X[:,0].min(), X[:,0].max(), 100)\n",
    "y_range = np.linspace(X[:,1].min(), X[:,1].max(), 100)\n",
    "x_grid, y_grid = np.meshgrid(x_range, y_range)\n",
    "z_grid = a * x_grid + b_coef * y_grid + c\n",
    "\n",
    "density, x_edges, y_edges, _ = binned_statistic_2d(\n",
    "    X[:,0], X[:,1], None, statistic='count', bins=100\n",
    ")\n",
    "density = density.T\n",
    "\n",
    "threshold = np.percentile(density[density > 0], 15)  \n",
    "mask = density > threshold\n",
    "\n",
    "fig = plt.figure(figsize=(6, 6))\n",
    "ax = fig.add_subplot(projection='3d')\n",
    "\n",
    "ax.scatter(X[:,0], X[:,1], X[:,2], c='blue', s=0.5, alpha=0.3)\n",
    "\n",
    "for i in range(mask.shape[0] - 1):\n",
    "    for j in range(mask.shape[1] - 1):\n",
    "        if mask[i, j]:\n",
    "            x_patch = x_grid[i:i+2, j:j+2]\n",
    "            y_patch = y_grid[i:i+2, j:j+2]\n",
    "            z_patch = z_grid[i:i+2, j:j+2]\n",
    "            ax.plot_surface(x_patch, y_patch, z_patch, color='red', alpha=0.6, linewidth=0)\n",
    "\n",
    "plt.tight_layout()\n",
    "plt.savefig(\"results/ground_approx_mesh.png\", dpi=200)\n",
    "plt.close(fig)\n",
    "plt.show()"
   ]
  },
  {
   "cell_type": "code",
   "execution_count": 25,
   "id": "764cc455",
   "metadata": {},
   "outputs": [
    {
     "name": "stdout",
     "output_type": "stream",
     "text": [
      "RMSE: 0.1162\n",
      "MAE:  0.0771\n"
     ]
    },
    {
     "data": {
      "image/png": "[encoded data removed]",
      "text/plain": [
       "<Figure size 700x500 with 1 Axes>"
      ]
     },
     "metadata": {},
     "output_type": "display_data"
    }
   ],
   "source": [
    "ground_df = df[df['scalar_Label'] == 1]\n",
    "X = ground_df[['x', 'y', 'z']].to_numpy()\n",
    "\n",
    "A = np.c_[X[:,0], X[:,1], np.ones(X.shape[0])]\n",
    "b = X[:,2]\n",
    "a, b_coef, c = np.linalg.pinv(A) @ b\n",
    "\n",
    "z_pred = a * X[:,0] + b_coef * X[:,1] + c\n",
    "residuals = X[:,2] - z_pred\n",
    "\n",
    "rmse = np.sqrt(np.mean(residuals**2))\n",
    "mae = np.mean(np.abs(residuals))\n",
    "\n",
    "print(f\"RMSE: {rmse:.4f}\")\n",
    "print(f\"MAE:  {mae:.4f}\")\n",
    "\n",
    "plt.figure(figsize=(7,5))\n",
    "plt.hist(residuals, bins=50)\n",
    "plt.xlabel('Резидуум [m]')\n",
    "plt.ylabel('Број тачака')\n",
    "plt.tight_layout()\n",
    "plt.grid(True)\n",
    "plt.savefig(\"results/histogram.png\", dpi=200)\n",
    "plt.close(fig)\n",
    "plt.show()"
   ]
  },
  {
   "cell_type": "code",
   "execution_count": 20,
   "id": "39ea827c",
   "metadata": {},
   "outputs": [
    {
     "name": "stdout",
     "output_type": "stream",
     "text": [
      "Avg resudual: 0.0000\n",
      "Standard dev: 0.1162\n",
      "Num of outliers, >3std: 1232 (1.11%)\n"
     ]
    }
   ],
   "source": [
    "mean_res = np.mean(residuals)\n",
    "std_res = np.std(residuals)\n",
    "outliers = np.sum(np.abs(residuals - mean_res) > 3 * std_res)\n",
    "perc = 100 * outliers / len(residuals)\n",
    "\n",
    "print(f\"Avg resudual: {mean_res:.4f}\")\n",
    "print(f\"Standard dev: {std_res:.4f}\")\n",
    "print(f\"Num of outliers, >3std: {outliers} ({perc:.2f}%)\")"
   ]
  },
  {
   "cell_type": "code",
   "execution_count": 26,
   "id": "b915e3bc",
   "metadata": {},
   "outputs": [
    {
     "data": {
      "image/png": "[encoded data removed]",
      "text/plain": [
       "<Figure size 800x500 with 1 Axes>"
      ]
     },
     "metadata": {},
     "output_type": "display_data"
    }
   ],
   "source": [
    "sns.set_theme(style=\"whitegrid\")\n",
    "plt.figure(figsize=(8,5))\n",
    "sns.kdeplot(residuals, fill=True, color='steelblue', alpha=0.6)\n",
    "plt.xlabel('Резидуум [m]')\n",
    "plt.ylabel('Густина')\n",
    "plt.tight_layout()\n",
    "plt.savefig(\"results/kde.png\", dpi=200)\n",
    "plt.close(fig)\n",
    "#plt.grid(True)\n",
    "plt.show()"
   ]
  },
  {
   "cell_type": "code",
   "execution_count": null,
   "id": "f4f80446",
   "metadata": {},
   "outputs": [],
   "source": []
  }
 ],
 "metadata": {
  "kernelspec": {
   "display_name": "Python 3",
   "language": "python",
   "name": "python3"
  },
  "language_info": {
   "codemirror_mode": {
    "name": "ipython",
    "version": 3
   },
   "file_extension": ".py",
   "mimetype": "text/x-python",
   "name": "python",
   "nbconvert_exporter": "python",
   "pygments_lexer": "ipython3",
   "version": "3.11.13"
  }
 },
 "nbformat": 4,
 "nbformat_minor": 5
}
